{
 "metadata": {
  "name": "JoiningQueries"
 },
 "nbformat": 3,
 "nbformat_minor": 0,
 "worksheets": [
  {
   "cells": [
    {
     "cell_type": "code",
     "collapsed": false,
     "input": [
      "import numpy as np\n",
      "import tables as tb"
     ],
     "language": "python",
     "metadata": {},
     "outputs": []
    },
    {
     "cell_type": "code",
     "collapsed": false,
     "input": [
      "# The description of the clients\n",
      "class Client(tb.IsDescription):\n",
      "    id = tb.IntCol()\n",
      "    name = tb.StringCol(200)\n",
      "    age = tb.Int8Col()"
     ],
     "language": "python",
     "metadata": {},
     "outputs": []
    },
    {
     "cell_type": "code",
     "collapsed": false,
     "input": [
      "# The description of the bills\n",
      "class Bill(tb.IsDescription):\n",
      "    client_id = tb.IntCol()\n",
      "    item_id = tb.IntCol()\n",
      "    price = tb.IntCol()"
     ],
     "language": "python",
     "metadata": {},
     "outputs": []
    },
    {
     "cell_type": "code",
     "collapsed": false,
     "input": [
      "f = tb.openFile('bills.h5', 'w')"
     ],
     "language": "python",
     "metadata": {},
     "outputs": []
    },
    {
     "cell_type": "code",
     "collapsed": false,
     "input": [
      "# Create and fill the table of clients\n",
      "clients = f.createTable(f.root, 'clients', Client, 'Clients', filters=tb.Filters(1))\n",
      "r = clients.row\n",
      "for i in xrange(1000):\n",
      "    r['id'] = i  # 1000 different clients\n",
      "    r['name'] = \"Client %d\" % i\n",
      "    r['age'] = (i % 80) + 21  # ages between 21 and 101\n",
      "    r.append()\n",
      "clients.flush()"
     ],
     "language": "python",
     "metadata": {},
     "outputs": []
    },
    {
     "cell_type": "code",
     "collapsed": false,
     "input": [
      "# Create and fill the table of bills\n",
      "bills = f.createTable(f.root, 'bills', Bill, 'Bills', filters=tb.Filters(1))\n",
      "r = bills.row\n",
      "for i in xrange(1000*1000):\n",
      "    r['client_id'] = i % 1000  # less than 1000 clients\n",
      "    r['item_id'] = i % 100  # less than 100 items\n",
      "    r['price'] = i % 10  # an item cannot be more than $10\n",
      "    r.append()\n",
      "bills.flush()"
     ],
     "language": "python",
     "metadata": {},
     "outputs": []
    },
    {
     "cell_type": "code",
     "collapsed": false,
     "input": [
      "# A join query based on an age range and price threshold\n",
      "def query(age1, age2, pricethr):\n",
      "    totals = {}\n",
      "    for client in clients.where('(age >= %d) & (age < %d)' % (age1, age2)):\n",
      "        totals[client['name']] = 0\n",
      "        #for bill in bills.where('(client_id == cid) & (price > pricethr)', {'cid': client['id'], 'pricethr': pricethr}):\n",
      "        cid = client['id']\n",
      "        for bill in bills.where('(client_id == cid) & (price > pricethr)'):\n",
      "            totals[client['name']] += bill['item_id']\n",
      "    return dict((cid, value) for cid, value in totals.iteritems() if value > 0)"
     ],
     "language": "python",
     "metadata": {},
     "outputs": []
    },
    {
     "cell_type": "code",
     "collapsed": false,
     "input": [
      "# Actual query executed\n",
      "%time totals = query(20, 30, 5)\n",
      "print totals"
     ],
     "language": "python",
     "metadata": {},
     "outputs": []
    },
    {
     "cell_type": "code",
     "collapsed": false,
     "input": [
      "# Let's accelerate the query by creating an Completely Sorted Index\n",
      "bills.cols.client_id.createCSIndex()"
     ],
     "language": "python",
     "metadata": {},
     "outputs": []
    },
    {
     "cell_type": "code",
     "collapsed": false,
     "input": [
      "# Re-execute the query again\n",
      "%time totals = query(20, 30, 5)\n",
      "print totals"
     ],
     "language": "python",
     "metadata": {},
     "outputs": []
    },
    {
     "cell_type": "code",
     "collapsed": false,
     "input": [
      "# Strategy: set up another table, but with clients sorted by id\n",
      "sbills = f.createTable(f.root, 'sbills', Bill, 'Sorted bills', filters=tb.Filters(1))"
     ],
     "language": "python",
     "metadata": {},
     "outputs": []
    },
    {
     "cell_type": "code",
     "collapsed": false,
     "input": [
      "# Do the sort without loading the complete table in-memory (out of core sort)\n",
      "r = sbills.row\n",
      "for b in bills.itersorted('client_id'):\n",
      "    r['client_id'] = b['client_id']\n",
      "    r['item_id'] = b['item_id']\n",
      "    r['price'] = b['price']\n",
      "    r.append()\n",
      "sbills.flush()"
     ],
     "language": "python",
     "metadata": {},
     "outputs": []
    },
    {
     "cell_type": "code",
     "collapsed": false,
     "input": [
      "# Index the new table\n",
      "sbills.cols.client_id.createCSIndex()\n",
      "f.removeNode(bills)  # Remove the origina table (not needed anymore)\n",
      "bills = sbills    # bills reference to new table"
     ],
     "language": "python",
     "metadata": {},
     "outputs": []
    },
    {
     "cell_type": "code",
     "collapsed": false,
     "input": [
      "# Re-execute the query again (should be faster now, really)\n",
      "%time totals = query(20, 30, 5)\n",
      "print totals"
     ],
     "language": "python",
     "metadata": {},
     "outputs": []
    },
    {
     "cell_type": "code",
     "collapsed": false,
     "input": [
      "f.close()"
     ],
     "language": "python",
     "metadata": {},
     "outputs": []
    },
    {
     "cell_type": "code",
     "collapsed": false,
     "input": [],
     "language": "python",
     "metadata": {},
     "outputs": []
    }
   ],
   "metadata": {}
  }
 ]
}