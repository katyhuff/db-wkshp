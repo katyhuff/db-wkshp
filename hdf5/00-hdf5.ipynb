{
 "metadata": {
  "name": "",
  "signature": "sha256:e55d32fc0b351edc75dd7bfd770c7e43b6d5241ed9bbbbc35ceaa8f361024644"
 },
 "nbformat": 3,
 "nbformat_minor": 0,
 "worksheets": [
  {
   "cells": [
    {
     "cell_type": "markdown",
     "metadata": {},
     "source": [
      "# What Is HDF5? What is PyTables?"
     ]
    },
    {
     "cell_type": "markdown",
     "metadata": {},
     "source": [
      "This tutorial is a modified hodgepodge of material from Francesc Alted's and Anthony Scopatz's pytables tutorials:\n",
      "\n",
      "www.pytables.org/docs/PyData2012-NYC.pdf\n",
      "http://pyvideo.org/video/2705/hdf5-is-for-lovers-tutorial-part-1\n",
      "\n",
      "HDF5 is a free, open source, binary file type. It is a key library for 'big science' due to its\n",
      "scalability, multiple APIs, and efficiency with structured, dense arrays of\n",
      "numbers.\n",
      "\n",
      "The acronym stands for *Hierarchial Data Format*.  It is hierarchical in the\n",
      "sense that the data is structured (much like a directory). HDF allows datasets to live in a nested tree structure. In effect, HDF5 is a file system within a file. (SQL has flat tables only).\n",
      "\n",
      "HDF5 is a database binary format with the ability to store lots of different datasets along with metadata, optimized I/O, and the ability to query its contents.\n",
      "\n",
      "- performs operations on-disk\n",
      "- free software (BSD)\n",
      "- has many APIs (c, c++, fortran 90, Java, and *python*)\n",
      "- has no limit on number of data objects\n",
      "- can represent various data objects as well as metadata\n",
      "\n",
      "PyTables is not [alted2013]:\n",
      "\n",
      "- Not a relational database replacement\n",
      "- Not a distributed database\n",
      "- Not extremely secure or safe (it\u2019s more about speed!)\n",
      "- Not a mere HDF5 wrapper\n",
      "\ufffc"
     ]
    },
    {
     "cell_type": "code",
     "collapsed": false,
     "input": [
      "import numpy as np\n",
      "import tables as tb"
     ],
     "language": "python",
     "metadata": {},
     "outputs": []
    },
    {
     "cell_type": "code",
     "collapsed": false,
     "input": [
      "# Create a new file\n",
      "f = tb.openFile(\"atest.h5\", \"w\")"
     ],
     "language": "python",
     "metadata": {},
     "outputs": []
    },
    {
     "cell_type": "code",
     "collapsed": false,
     "input": [
      "# Create a NumPy array, number of ghosts per sq. ft.\n",
      "a = np.arange(100).reshape(20,5)"
     ],
     "language": "python",
     "metadata": {},
     "outputs": []
    },
    {
     "cell_type": "code",
     "collapsed": false,
     "input": [
      "# Save the array\n",
      "f.createArray(f.root, \"ghosts\", a)"
     ],
     "language": "python",
     "metadata": {},
     "outputs": []
    },
    {
     "cell_type": "code",
     "collapsed": false,
     "input": [
      "# See data\n",
      "f.root.ghosts[:]"
     ],
     "language": "python",
     "metadata": {},
     "outputs": []
    },
    {
     "cell_type": "code",
     "collapsed": false,
     "input": [
      "# Select some data areas\n",
      "ta = f.root.ghosts\n",
      "ta[1:10:3,2:5]"
     ],
     "language": "python",
     "metadata": {},
     "outputs": []
    },
    {
     "cell_type": "code",
     "collapsed": false,
     "input": [
      "np.allclose(ta[1:10:3,2:5], a[1:10:3,2:5])"
     ],
     "language": "python",
     "metadata": {},
     "outputs": []
    },
    {
     "cell_type": "code",
     "collapsed": false,
     "input": [
      "# Create another array, number of goblins per square foot\n",
      "ta2 = f.createArray(f.root, \"goblins\", np.arange(10))"
     ],
     "language": "python",
     "metadata": {},
     "outputs": []
    },
    {
     "cell_type": "code",
     "collapsed": false,
     "input": [
      "np.allclose(ta2, np.arange(10))"
     ],
     "language": "python",
     "metadata": {},
     "outputs": []
    },
    {
     "cell_type": "code",
     "collapsed": false,
     "input": [
      "ls -l atest.h5"
     ],
     "language": "python",
     "metadata": {},
     "outputs": []
    },
    {
     "cell_type": "code",
     "collapsed": false,
     "input": [
      "# Flush data to the file (very important to keep all your data safe!)\n",
      "f.flush()"
     ],
     "language": "python",
     "metadata": {},
     "outputs": []
    },
    {
     "cell_type": "code",
     "collapsed": false,
     "input": [
      "ls -l atest.h5"
     ],
     "language": "python",
     "metadata": {},
     "outputs": []
    },
    {
     "cell_type": "code",
     "collapsed": false,
     "input": [
      "f.close()  # close access to file"
     ],
     "language": "python",
     "metadata": {},
     "outputs": []
    },
    {
     "cell_type": "code",
     "collapsed": false,
     "input": [
      "ta[:]"
     ],
     "language": "python",
     "metadata": {},
     "outputs": []
    },
    {
     "cell_type": "code",
     "collapsed": false,
     "input": [
      "ta"
     ],
     "language": "python",
     "metadata": {},
     "outputs": []
    },
    {
     "cell_type": "markdown",
     "metadata": {},
     "source": [
      "## There are different kinds of dataset though\n",
      "\n",
      "- Array\n",
      "- CArray (chunked array)\n",
      "- EArray (extendable array)\n",
      "- VLArray (variable length array)\n",
      "- Table (structured array w/ named fields)\n",
      "\n",
      "We just had an example of Arrays. Let's look at Tables. "
     ]
    },
    {
     "cell_type": "code",
     "collapsed": false,
     "input": [
      "# The description for the tabular data\n",
      "class TabularData(tb.IsDescription):\n",
      "    names = tb.StringCol(200)\n",
      "    ages = tb.IntCol()\n",
      "    heights = tb.FloatCol()"
     ],
     "language": "python",
     "metadata": {},
     "outputs": []
    },
    {
     "cell_type": "code",
     "collapsed": false,
     "input": [
      "# Open a file and create the Table container\n",
      "f = tb.openFile('atable.h5', 'w')\n",
      "t = f.createTable(f.root, 'table', TabularData, 'table title', filters=tb.Filters(5, 'blosc'))"
     ],
     "language": "python",
     "metadata": {},
     "outputs": []
    },
    {
     "cell_type": "code",
     "collapsed": false,
     "input": [
      "t"
     ],
     "language": "python",
     "metadata": {},
     "outputs": []
    },
    {
     "cell_type": "code",
     "collapsed": false,
     "input": [
      "#  Fill the table with some 1 million rows\n",
      "from time import time\n",
      "t0 = time()\n",
      "r = t.row\n",
      "for i in xrange(1000*1000):\n",
      "    r['names'] = str(i)\n",
      "    r['ages'] = i + 1\n",
      "    r['heights'] = i * (i + 1)\n",
      "    r.append()\n",
      "t.flush()\n",
      "print \"Insert time: %.3fs\" % (time()-t0,) "
     ],
     "language": "python",
     "metadata": {},
     "outputs": []
    },
    {
     "cell_type": "code",
     "collapsed": false,
     "input": [
      "t"
     ],
     "language": "python",
     "metadata": {},
     "outputs": []
    },
    {
     "cell_type": "code",
     "collapsed": false,
     "input": [
      "# Size on disk\n",
      "!ls -lh atable.h5"
     ],
     "language": "python",
     "metadata": {},
     "outputs": []
    },
    {
     "cell_type": "code",
     "collapsed": false,
     "input": [
      "# Real size\n",
      "np.prod(t.shape) * t.dtype.itemsize / 2**20."
     ],
     "language": "python",
     "metadata": {},
     "outputs": []
    },
    {
     "cell_type": "code",
     "collapsed": false,
     "input": [
      "# Do a query (regular)\n",
      "%time [r['names'] for r in t if r['ages'] < 10]"
     ],
     "language": "python",
     "metadata": {},
     "outputs": []
    },
    {
     "cell_type": "code",
     "collapsed": false,
     "input": [
      "# Repeat the query, but using in-kernel method\n",
      "%time [r['names'] for r in t.where('ages < 10')]"
     ],
     "language": "python",
     "metadata": {},
     "outputs": []
    },
    {
     "cell_type": "code",
     "collapsed": false,
     "input": [
      "# Performing complex conditions (regular query)\n",
      "%time [r['names'] for r in t if r['ages'] < 10 and r['heights'] < 10]"
     ],
     "language": "python",
     "metadata": {},
     "outputs": []
    },
    {
     "cell_type": "code",
     "collapsed": false,
     "input": [
      "# Complex, in-kernel queries\n",
      "%time [r['names'] for r in t.where('(ages < 10) & (heights < 10)')]"
     ],
     "language": "python",
     "metadata": {},
     "outputs": []
    },
    {
     "cell_type": "code",
     "collapsed": false,
     "input": [
      "# Get a structured array out of disk\n",
      "sa = t[:]\n",
      "sa"
     ],
     "language": "python",
     "metadata": {},
     "outputs": []
    },
    {
     "cell_type": "code",
     "collapsed": false,
     "input": [
      "# Perform the query\n",
      "%time sa[((sa['ages'] < 10) & (sa['heights'] < 10))]['names']"
     ],
     "language": "python",
     "metadata": {},
     "outputs": []
    },
    {
     "cell_type": "code",
     "collapsed": false,
     "input": [
      "# Create an index for the on-disk table\n",
      "%time t.cols.ages.createCSIndex()"
     ],
     "language": "python",
     "metadata": {},
     "outputs": []
    },
    {
     "cell_type": "code",
     "collapsed": false,
     "input": [
      "# Repeat the complex query (indexed)\n",
      "%time [r['names'] for r in t.where('(ages < 10) & (heights < 10)')]"
     ],
     "language": "python",
     "metadata": {},
     "outputs": []
    },
    {
     "cell_type": "code",
     "collapsed": false,
     "input": [
      "f.close()"
     ],
     "language": "python",
     "metadata": {},
     "outputs": []
    },
    {
     "cell_type": "markdown",
     "metadata": {},
     "source": [
      "## What's all this about hierarchy?"
     ]
    },
    {
     "cell_type": "code",
     "collapsed": false,
     "input": [
      "!cp atest.h5 atest2.h5"
     ],
     "language": "python",
     "metadata": {},
     "outputs": []
    },
    {
     "cell_type": "code",
     "collapsed": false,
     "input": [
      "f\n",
      "f = tb.openFile(\"atest2.h5\", \"a\")"
     ],
     "language": "python",
     "metadata": {},
     "outputs": []
    },
    {
     "cell_type": "code",
     "collapsed": false,
     "input": [
      "f.createGroup(f.root, 'inschool', 'The kids from school')"
     ],
     "language": "python",
     "metadata": {},
     "outputs": []
    },
    {
     "cell_type": "code",
     "collapsed": false,
     "input": [
      "f"
     ],
     "language": "python",
     "metadata": {},
     "outputs": []
    },
    {
     "cell_type": "code",
     "collapsed": false,
     "input": [
      "f.moveNode(f.root.ghosts, f.root.inschool)"
     ],
     "language": "python",
     "metadata": {},
     "outputs": []
    },
    {
     "cell_type": "code",
     "collapsed": false,
     "input": [
      "f"
     ],
     "language": "python",
     "metadata": {},
     "outputs": []
    },
    {
     "cell_type": "code",
     "collapsed": false,
     "input": [
      "f.createGroup('/g1/g2/g3/g4', 'g5', createparents=True)"
     ],
     "language": "python",
     "metadata": {},
     "outputs": []
    },
    {
     "cell_type": "code",
     "collapsed": false,
     "input": [
      "f"
     ],
     "language": "python",
     "metadata": {},
     "outputs": []
    },
    {
     "cell_type": "code",
     "collapsed": false,
     "input": [
      "f.createArray(f.root.g1.g2.g3.g4.g5, 'goblins', np.arange(10))"
     ],
     "language": "python",
     "metadata": {},
     "outputs": []
    },
    {
     "cell_type": "code",
     "collapsed": false,
     "input": [
      "f"
     ],
     "language": "python",
     "metadata": {},
     "outputs": []
    },
    {
     "cell_type": "code",
     "collapsed": false,
     "input": [
      "f.root.g1.g2.g3.g4.g5.goblins[:]"
     ],
     "language": "python",
     "metadata": {},
     "outputs": []
    },
    {
     "cell_type": "code",
     "collapsed": false,
     "input": [
      "f.removeNode(f.root.g1.g2.g3.g4.g5.goblins)"
     ],
     "language": "python",
     "metadata": {},
     "outputs": []
    },
    {
     "cell_type": "code",
     "collapsed": false,
     "input": [
      "f"
     ],
     "language": "python",
     "metadata": {},
     "outputs": []
    },
    {
     "cell_type": "code",
     "collapsed": false,
     "input": [
      "for n in f: print n"
     ],
     "language": "python",
     "metadata": {},
     "outputs": []
    },
    {
     "cell_type": "code",
     "collapsed": false,
     "input": [
      "for n in f.walkNodes(): print n"
     ],
     "language": "python",
     "metadata": {},
     "outputs": []
    },
    {
     "cell_type": "code",
     "collapsed": false,
     "input": [
      "for n in f.walkNodes(f.root.inschool): print n"
     ],
     "language": "python",
     "metadata": {},
     "outputs": []
    },
    {
     "cell_type": "code",
     "collapsed": false,
     "input": [
      "for n in f.walkNodes(f.root.inschool, classname=\"Array\"): print n[:2]"
     ],
     "language": "python",
     "metadata": {},
     "outputs": []
    },
    {
     "cell_type": "code",
     "collapsed": false,
     "input": [
      "f.close()"
     ],
     "language": "python",
     "metadata": {},
     "outputs": []
    },
    {
     "cell_type": "markdown",
     "metadata": {},
     "source": [
      "## Let's talk briefly about metadata"
     ]
    },
    {
     "cell_type": "code",
     "collapsed": false,
     "input": [
      "!cp atest2.h5 atest3.h5"
     ],
     "language": "python",
     "metadata": {},
     "outputs": []
    },
    {
     "cell_type": "code",
     "collapsed": false,
     "input": [
      "import tables as tb\n",
      "f = tb.openFile(\"atest3.h5\", \"a\")"
     ],
     "language": "python",
     "metadata": {},
     "outputs": []
    },
    {
     "cell_type": "code",
     "collapsed": false,
     "input": [
      "f"
     ],
     "language": "python",
     "metadata": {},
     "outputs": []
    },
    {
     "cell_type": "code",
     "collapsed": false,
     "input": [
      "f.root.goblins.attrs"
     ],
     "language": "python",
     "metadata": {},
     "outputs": []
    },
    {
     "cell_type": "code",
     "collapsed": false,
     "input": [
      "f.root.goblins.attrs.myattr = \"All the goblins on the block!\""
     ],
     "language": "python",
     "metadata": {},
     "outputs": []
    },
    {
     "cell_type": "code",
     "collapsed": false,
     "input": [
      "f.root.goblins.attrs"
     ],
     "language": "python",
     "metadata": {},
     "outputs": []
    },
    {
     "cell_type": "code",
     "collapsed": false,
     "input": [
      "# h5dump and h5ls inspect the contents of the file\n",
      "!h5ls -av atest3.h5"
     ],
     "language": "python",
     "metadata": {},
     "outputs": []
    },
    {
     "cell_type": "code",
     "collapsed": false,
     "input": [
      "# flush \n",
      "f.flush()"
     ],
     "language": "python",
     "metadata": {},
     "outputs": []
    },
    {
     "cell_type": "code",
     "collapsed": false,
     "input": [
      "!h5ls -av atest3.h5"
     ],
     "language": "python",
     "metadata": {},
     "outputs": []
    },
    {
     "cell_type": "code",
     "collapsed": false,
     "input": [
      "f.root.goblins.attrs.grades = np.arange(10)\n",
      "f.flush()"
     ],
     "language": "python",
     "metadata": {},
     "outputs": []
    },
    {
     "cell_type": "code",
     "collapsed": false,
     "input": [
      "!h5ls -av atest3.h5"
     ],
     "language": "python",
     "metadata": {},
     "outputs": []
    },
    {
     "cell_type": "code",
     "collapsed": false,
     "input": [
      "attrs = f.root.goblins.attrs"
     ],
     "language": "python",
     "metadata": {},
     "outputs": []
    },
    {
     "cell_type": "code",
     "collapsed": false,
     "input": [
      "attrs"
     ],
     "language": "python",
     "metadata": {},
     "outputs": []
    },
    {
     "cell_type": "code",
     "collapsed": false,
     "input": [
      "del attrs.grades\n",
      "attrs"
     ],
     "language": "python",
     "metadata": {},
     "outputs": []
    },
    {
     "cell_type": "code",
     "collapsed": false,
     "input": [
      "attrs.candy = 12.3\n",
      "attrs"
     ],
     "language": "python",
     "metadata": {},
     "outputs": []
    },
    {
     "cell_type": "code",
     "collapsed": false,
     "input": [
      "for n in f.walkNodes(f.root.inschool, classname=\"Array\"): print `n.attrs`"
     ],
     "language": "python",
     "metadata": {},
     "outputs": []
    },
    {
     "cell_type": "code",
     "collapsed": false,
     "input": [
      "f.close()"
     ],
     "language": "python",
     "metadata": {},
     "outputs": []
    }
   ],
   "metadata": {}
  }
 ]
}