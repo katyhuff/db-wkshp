{
 "metadata": {
  "name": "",
  "signature": "sha256:864b2428ec82ef8b11dd89e6d219182056e5d05dfaf72087b66ea576b8efa8cd"
 },
 "nbformat": 3,
 "nbformat_minor": 0,
 "worksheets": [
  {
   "cells": [
    {
     "cell_type": "markdown",
     "metadata": {},
     "source": [
      "# What Is HDF5? What is PyTables?"
     ]
    },
    {
     "cell_type": "markdown",
     "metadata": {},
     "source": [
      "This tutorial is a modified hodgepodge of material from Francesc Alted's and Anthony Scopatz's pytables tutorials:\n",
      "\n",
      "www.pytables.org/docs/PyData2012-NYC.pdf\n",
      "http://pyvideo.org/video/2705/hdf5-is-for-lovers-tutorial-part-1\n",
      "\n",
      "HDF5 is a free, open source, binary file type. It is a key library for 'big science' due to its\n",
      "scalability, multiple APIs, and efficiency with structured, dense arrays of\n",
      "numbers.\n",
      "\n",
      "The acronym stands for *Hierarchial Data Format*.  It is hierarchical in the\n",
      "sense that the data is structured (much like a directory). HDF allows datasets to live in a nested tree structure. In effect, HDF5 is a file system within a file. (SQL has flat tables only).\n",
      "\n",
      "HDF5 is a database binary format with the ability to store lots of different datasets along with metadata, optimized I/O, and the ability to query its contents.\n",
      "\n",
      "- performs operations on-disk\n",
      "- free software (BSD)\n",
      "- has many APIs (c, c++, fortran 90, Java, and *python*)\n",
      "- has no limit on number of data objects\n",
      "- can represent various data objects as well as metadata\n",
      "\n",
      "PyTables is not [alted2013]:\n",
      "\n",
      "- Not a relational database replacement\n",
      "- Not a distributed database\n",
      "- Not extremely secure or safe (it\u2019s more about speed!)\n",
      "- Not a mere HDF5 wrapper\n",
      "\ufffc"
     ]
    },
    {
     "cell_type": "code",
     "collapsed": false,
     "input": [
      "import numpy as np\n",
      "import tables as tb"
     ],
     "language": "python",
     "metadata": {},
     "outputs": [],
     "prompt_number": 1
    },
    {
     "cell_type": "code",
     "collapsed": false,
     "input": [
      "# Create a new file\n",
      "f = tb.openFile(\"atest.h5\", \"w\")"
     ],
     "language": "python",
     "metadata": {},
     "outputs": [
      {
       "ename": "ValueError",
       "evalue": "The file 'atest.h5' is already opened.  Please close it before reopening in write mode.",
       "output_type": "pyerr",
       "traceback": [
        "\u001b[0;31m---------------------------------------------------------------------------\u001b[0m\n\u001b[0;31mValueError\u001b[0m                                Traceback (most recent call last)",
        "\u001b[0;32m<ipython-input-14-9b1c84f49b95>\u001b[0m in \u001b[0;36m<module>\u001b[0;34m()\u001b[0m\n\u001b[1;32m      1\u001b[0m \u001b[0;31m# Create a new file\u001b[0m\u001b[0;34m\u001b[0m\u001b[0;34m\u001b[0m\u001b[0m\n\u001b[0;32m----> 2\u001b[0;31m \u001b[0mf\u001b[0m \u001b[0;34m=\u001b[0m \u001b[0mtb\u001b[0m\u001b[0;34m.\u001b[0m\u001b[0mopenFile\u001b[0m\u001b[0;34m(\u001b[0m\u001b[0;34m\"atest.h5\"\u001b[0m\u001b[0;34m,\u001b[0m \u001b[0;34m\"w\"\u001b[0m\u001b[0;34m)\u001b[0m\u001b[0;34m\u001b[0m\u001b[0m\n\u001b[0m",
        "\u001b[0;32m/Users/khuff/anaconda/lib/python2.7/site-packages/tables/_past.pyc\u001b[0m in \u001b[0;36moldfunc\u001b[0;34m(*args, **kwargs)\u001b[0m\n\u001b[1;32m     33\u001b[0m     \u001b[0;32mdef\u001b[0m \u001b[0moldfunc\u001b[0m\u001b[0;34m(\u001b[0m\u001b[0;34m*\u001b[0m\u001b[0margs\u001b[0m\u001b[0;34m,\u001b[0m \u001b[0;34m**\u001b[0m\u001b[0mkwargs\u001b[0m\u001b[0;34m)\u001b[0m\u001b[0;34m:\u001b[0m\u001b[0;34m\u001b[0m\u001b[0m\n\u001b[1;32m     34\u001b[0m         \u001b[0mwarn\u001b[0m\u001b[0;34m(\u001b[0m\u001b[0mwarnmsg\u001b[0m\u001b[0;34m,\u001b[0m \u001b[0mDeprecationWarning\u001b[0m\u001b[0;34m,\u001b[0m \u001b[0mstacklevel\u001b[0m\u001b[0;34m=\u001b[0m\u001b[0;36m2\u001b[0m\u001b[0;34m)\u001b[0m\u001b[0;34m\u001b[0m\u001b[0m\n\u001b[0;32m---> 35\u001b[0;31m         \u001b[0;32mreturn\u001b[0m \u001b[0mobj\u001b[0m\u001b[0;34m(\u001b[0m\u001b[0;34m*\u001b[0m\u001b[0margs\u001b[0m\u001b[0;34m,\u001b[0m \u001b[0;34m**\u001b[0m\u001b[0mkwargs\u001b[0m\u001b[0;34m)\u001b[0m\u001b[0;34m\u001b[0m\u001b[0m\n\u001b[0m\u001b[1;32m     36\u001b[0m     oldfunc.__doc__ = (\n\u001b[1;32m     37\u001b[0m         obj.__doc__ or '') + \"\\n\\n.. warning::\\n\\n    \" + warnmsg + \"\\n\"\n",
        "\u001b[0;32m/Users/khuff/anaconda/lib/python2.7/site-packages/tables/file.pyc\u001b[0m in \u001b[0;36mopen_file\u001b[0;34m(filename, mode, title, root_uep, filters, **kwargs)\u001b[0m\n\u001b[1;32m    313\u001b[0m                 raise ValueError(\n\u001b[1;32m    314\u001b[0m                     \u001b[0;34m\"The file '%s' is already opened.  Please \"\u001b[0m\u001b[0;34m\u001b[0m\u001b[0m\n\u001b[0;32m--> 315\u001b[0;31m                     \"close it before reopening in write mode.\" % filename)\n\u001b[0m\u001b[1;32m    316\u001b[0m \u001b[0;34m\u001b[0m\u001b[0m\n\u001b[1;32m    317\u001b[0m     \u001b[0;31m# Finally, create the File instance, and return it\u001b[0m\u001b[0;34m\u001b[0m\u001b[0;34m\u001b[0m\u001b[0m\n",
        "\u001b[0;31mValueError\u001b[0m: The file 'atest.h5' is already opened.  Please close it before reopening in write mode."
       ]
      }
     ],
     "prompt_number": 14
    },
    {
     "cell_type": "code",
     "collapsed": false,
     "input": [
      "# Create a NumPy array, number of ghosts per sq. ft.\n",
      "a = np.arange(100).reshape(20,5)"
     ],
     "language": "python",
     "metadata": {},
     "outputs": [],
     "prompt_number": 3
    },
    {
     "cell_type": "code",
     "collapsed": false,
     "input": [
      "# Save the array\n",
      "f.createArray(f.root, \"ghosts\", a)"
     ],
     "language": "python",
     "metadata": {},
     "outputs": [
      {
       "metadata": {},
       "output_type": "pyout",
       "prompt_number": 4,
       "text": [
        "/ghosts (Array(20, 5)) ''\n",
        "  atom := Int64Atom(shape=(), dflt=0)\n",
        "  maindim := 0\n",
        "  flavor := 'numpy'\n",
        "  byteorder := 'little'\n",
        "  chunkshape := None"
       ]
      }
     ],
     "prompt_number": 4
    },
    {
     "cell_type": "code",
     "collapsed": false,
     "input": [
      "# See data\n",
      "f.root.ghosts[:]"
     ],
     "language": "python",
     "metadata": {},
     "outputs": [
      {
       "metadata": {},
       "output_type": "pyout",
       "prompt_number": 5,
       "text": [
        "array([[ 0,  1,  2,  3,  4],\n",
        "       [ 5,  6,  7,  8,  9],\n",
        "       [10, 11, 12, 13, 14],\n",
        "       [15, 16, 17, 18, 19],\n",
        "       [20, 21, 22, 23, 24],\n",
        "       [25, 26, 27, 28, 29],\n",
        "       [30, 31, 32, 33, 34],\n",
        "       [35, 36, 37, 38, 39],\n",
        "       [40, 41, 42, 43, 44],\n",
        "       [45, 46, 47, 48, 49],\n",
        "       [50, 51, 52, 53, 54],\n",
        "       [55, 56, 57, 58, 59],\n",
        "       [60, 61, 62, 63, 64],\n",
        "       [65, 66, 67, 68, 69],\n",
        "       [70, 71, 72, 73, 74],\n",
        "       [75, 76, 77, 78, 79],\n",
        "       [80, 81, 82, 83, 84],\n",
        "       [85, 86, 87, 88, 89],\n",
        "       [90, 91, 92, 93, 94],\n",
        "       [95, 96, 97, 98, 99]])"
       ]
      }
     ],
     "prompt_number": 5
    },
    {
     "cell_type": "code",
     "collapsed": false,
     "input": [
      "# Select some data areas\n",
      "ta = f.root.ghosts\n",
      "ta[1:10:3,2:5]"
     ],
     "language": "python",
     "metadata": {},
     "outputs": [
      {
       "metadata": {},
       "output_type": "pyout",
       "prompt_number": 7,
       "text": [
        "array([[ 7,  8,  9],\n",
        "       [22, 23, 24],\n",
        "       [37, 38, 39]])"
       ]
      }
     ],
     "prompt_number": 7
    },
    {
     "cell_type": "code",
     "collapsed": false,
     "input": [
      "np.allclose(ta[1:10:3,2:5], a[1:10:3,2:5])"
     ],
     "language": "python",
     "metadata": {},
     "outputs": [
      {
       "metadata": {},
       "output_type": "pyout",
       "prompt_number": 8,
       "text": [
        "True"
       ]
      }
     ],
     "prompt_number": 8
    },
    {
     "cell_type": "code",
     "collapsed": false,
     "input": [
      "# Create another array, number of goblins per square foot\n",
      "ta2 = f.createArray(f.root, \"goblins\", np.arange(10))"
     ],
     "language": "python",
     "metadata": {},
     "outputs": [],
     "prompt_number": 9
    },
    {
     "cell_type": "code",
     "collapsed": false,
     "input": [
      "np.allclose(ta2, np.arange(10))"
     ],
     "language": "python",
     "metadata": {},
     "outputs": [
      {
       "metadata": {},
       "output_type": "pyout",
       "prompt_number": 103,
       "text": [
        "True"
       ]
      }
     ],
     "prompt_number": 103
    },
    {
     "cell_type": "code",
     "collapsed": false,
     "input": [
      "ls -l atest.h5"
     ],
     "language": "python",
     "metadata": {},
     "outputs": [
      {
       "output_type": "stream",
       "stream": "stdout",
       "text": [
        "-rw-rw-r--  1 khuff  staff  0 Oct  2 09:54 atest.h5\r\n"
       ]
      }
     ],
     "prompt_number": 104
    },
    {
     "cell_type": "code",
     "collapsed": false,
     "input": [
      "# Flush data to the file (very important to keep all your data safe!)\n",
      "f.flush()"
     ],
     "language": "python",
     "metadata": {},
     "outputs": [],
     "prompt_number": 105
    },
    {
     "cell_type": "code",
     "collapsed": false,
     "input": [
      "ls -l atest.h5"
     ],
     "language": "python",
     "metadata": {},
     "outputs": [
      {
       "output_type": "stream",
       "stream": "stdout",
       "text": [
        "-rw-rw-r--  1 khuff  staff  3024 Oct  2 09:54 atest.h5\r\n"
       ]
      }
     ],
     "prompt_number": 106
    },
    {
     "cell_type": "code",
     "collapsed": false,
     "input": [
      "f.close()  # close access to file"
     ],
     "language": "python",
     "metadata": {},
     "outputs": [],
     "prompt_number": 107
    },
    {
     "cell_type": "code",
     "collapsed": false,
     "input": [
      "ta[:]"
     ],
     "language": "python",
     "metadata": {},
     "outputs": [
      {
       "ename": "ClosedNodeError",
       "evalue": "the node object is closed",
       "output_type": "pyerr",
       "traceback": [
        "\u001b[0;31m---------------------------------------------------------------------------\u001b[0m\n\u001b[0;31mClosedNodeError\u001b[0m                           Traceback (most recent call last)",
        "\u001b[0;32m<ipython-input-108-451a2d5c2e4a>\u001b[0m in \u001b[0;36m<module>\u001b[0;34m()\u001b[0m\n\u001b[0;32m----> 1\u001b[0;31m \u001b[0mta\u001b[0m\u001b[0;34m[\u001b[0m\u001b[0;34m:\u001b[0m\u001b[0;34m]\u001b[0m\u001b[0;34m\u001b[0m\u001b[0m\n\u001b[0m",
        "\u001b[0;32m/Users/khuff/anaconda/lib/python2.7/site-packages/tables/array.pyc\u001b[0m in \u001b[0;36m__getitem__\u001b[0;34m(self, key)\u001b[0m\n\u001b[1;32m    641\u001b[0m         \"\"\"\n\u001b[1;32m    642\u001b[0m \u001b[0;34m\u001b[0m\u001b[0m\n\u001b[0;32m--> 643\u001b[0;31m         \u001b[0mself\u001b[0m\u001b[0;34m.\u001b[0m\u001b[0m_g_check_open\u001b[0m\u001b[0;34m(\u001b[0m\u001b[0;34m)\u001b[0m\u001b[0;34m\u001b[0m\u001b[0m\n\u001b[0m\u001b[1;32m    644\u001b[0m \u001b[0;34m\u001b[0m\u001b[0m\n\u001b[1;32m    645\u001b[0m         \u001b[0;32mtry\u001b[0m\u001b[0;34m:\u001b[0m\u001b[0;34m\u001b[0m\u001b[0m\n",
        "\u001b[0;32m/Users/khuff/anaconda/lib/python2.7/site-packages/tables/node.pyc\u001b[0m in \u001b[0;36m_g_check_open\u001b[0;34m(self)\u001b[0m\n\u001b[1;32m    347\u001b[0m \u001b[0;34m\u001b[0m\u001b[0m\n\u001b[1;32m    348\u001b[0m         \u001b[0;32mif\u001b[0m \u001b[0;32mnot\u001b[0m \u001b[0mself\u001b[0m\u001b[0;34m.\u001b[0m\u001b[0m_v_isopen\u001b[0m\u001b[0;34m:\u001b[0m\u001b[0;34m\u001b[0m\u001b[0m\n\u001b[0;32m--> 349\u001b[0;31m             \u001b[0;32mraise\u001b[0m \u001b[0mClosedNodeError\u001b[0m\u001b[0;34m(\u001b[0m\u001b[0;34m\"the node object is closed\"\u001b[0m\u001b[0;34m)\u001b[0m\u001b[0;34m\u001b[0m\u001b[0m\n\u001b[0m\u001b[1;32m    350\u001b[0m         \u001b[0;32massert\u001b[0m \u001b[0mself\u001b[0m\u001b[0;34m.\u001b[0m\u001b[0m_v_file\u001b[0m\u001b[0;34m.\u001b[0m\u001b[0misopen\u001b[0m\u001b[0;34m,\u001b[0m \u001b[0;34m\"found an open node in a closed file\"\u001b[0m\u001b[0;34m\u001b[0m\u001b[0m\n\u001b[1;32m    351\u001b[0m \u001b[0;34m\u001b[0m\u001b[0m\n",
        "\u001b[0;31mClosedNodeError\u001b[0m: the node object is closed"
       ]
      }
     ],
     "prompt_number": 108
    },
    {
     "cell_type": "code",
     "collapsed": false,
     "input": [
      "ta"
     ],
     "language": "python",
     "metadata": {},
     "outputs": [
      {
       "metadata": {},
       "output_type": "pyout",
       "prompt_number": 109,
       "text": [
        "<closed tables.array.Array at 0x10598aaf0>"
       ]
      }
     ],
     "prompt_number": 109
    },
    {
     "cell_type": "markdown",
     "metadata": {},
     "source": [
      "## There are different kinds of dataset though\n",
      "\n",
      "- Array\n",
      "- CArray (chunked array)\n",
      "- EArray (extendable array)\n",
      "- VLArray (variable length array)\n",
      "- Table (structured array w/ named fields)\n",
      "\n",
      "We just had an example of Arrays. Let's look at Tables. "
     ]
    },
    {
     "cell_type": "code",
     "collapsed": false,
     "input": [
      "# The description for the tabular data\n",
      "class TabularData(tb.IsDescription):\n",
      "    names = tb.StringCol(200)\n",
      "    ages = tb.IntCol()\n",
      "    heights = tb.FloatCol()"
     ],
     "language": "python",
     "metadata": {},
     "outputs": [],
     "prompt_number": 110
    },
    {
     "cell_type": "code",
     "collapsed": false,
     "input": [
      "# Open a file and create the Table container\n",
      "f = tb.openFile('atable.h5', 'w')\n",
      "t = f.createTable(f.root, 'table', TabularData, 'table title', filters=tb.Filters(5, 'blosc'))"
     ],
     "language": "python",
     "metadata": {},
     "outputs": [],
     "prompt_number": 111
    },
    {
     "cell_type": "code",
     "collapsed": false,
     "input": [
      "t"
     ],
     "language": "python",
     "metadata": {},
     "outputs": [
      {
       "metadata": {},
       "output_type": "pyout",
       "prompt_number": 112,
       "text": [
        "/table (Table(0,), shuffle, blosc(5)) 'table title'\n",
        "  description := {\n",
        "  \"ages\": Int32Col(shape=(), dflt=0, pos=0),\n",
        "  \"heights\": Float64Col(shape=(), dflt=0.0, pos=1),\n",
        "  \"names\": StringCol(itemsize=200, shape=(), dflt='', pos=2)}\n",
        "  byteorder := 'little'\n",
        "  chunkshape := (309,)"
       ]
      }
     ],
     "prompt_number": 112
    },
    {
     "cell_type": "code",
     "collapsed": false,
     "input": [
      "#  Fill the table with some 1 million rows\n",
      "from time import time\n",
      "t0 = time()\n",
      "r = t.row\n",
      "for i in xrange(1000*1000):\n",
      "    r['names'] = str(i)\n",
      "    r['ages'] = i + 1\n",
      "    r['heights'] = i * (i + 1)\n",
      "    r.append()\n",
      "t.flush()\n",
      "print \"Insert time: %.3fs\" % (time()-t0,) "
     ],
     "language": "python",
     "metadata": {},
     "outputs": [
      {
       "output_type": "stream",
       "stream": "stdout",
       "text": [
        "Insert time: 1.487s\n"
       ]
      }
     ],
     "prompt_number": 113
    },
    {
     "cell_type": "code",
     "collapsed": false,
     "input": [
      "t"
     ],
     "language": "python",
     "metadata": {},
     "outputs": [
      {
       "metadata": {},
       "output_type": "pyout",
       "prompt_number": 114,
       "text": [
        "/table (Table(1000000,), shuffle, blosc(5)) 'table title'\n",
        "  description := {\n",
        "  \"ages\": Int32Col(shape=(), dflt=0, pos=0),\n",
        "  \"heights\": Float64Col(shape=(), dflt=0.0, pos=1),\n",
        "  \"names\": StringCol(itemsize=200, shape=(), dflt='', pos=2)}\n",
        "  byteorder := 'little'\n",
        "  chunkshape := (309,)"
       ]
      }
     ],
     "prompt_number": 114
    },
    {
     "cell_type": "code",
     "collapsed": false,
     "input": [
      "# Size on disk\n",
      "!ls -lh atable.h5"
     ],
     "language": "python",
     "metadata": {},
     "outputs": [
      {
       "output_type": "stream",
       "stream": "stdout",
       "text": [
        "-rw-rw-r--  1 khuff  staff   4.9M Oct  2 09:54 atable.h5\r\n"
       ]
      }
     ],
     "prompt_number": 115
    },
    {
     "cell_type": "code",
     "collapsed": false,
     "input": [
      "# Real size\n",
      "np.prod(t.shape) * t.dtype.itemsize / 2**20."
     ],
     "language": "python",
     "metadata": {},
     "outputs": [
      {
       "metadata": {},
       "output_type": "pyout",
       "prompt_number": 116,
       "text": [
        "202.178955078125"
       ]
      }
     ],
     "prompt_number": 116
    },
    {
     "cell_type": "code",
     "collapsed": false,
     "input": [
      "# Do a query (regular)\n",
      "%time [r['names'] for r in t if r['ages'] < 10]"
     ],
     "language": "python",
     "metadata": {},
     "outputs": [
      {
       "output_type": "stream",
       "stream": "stdout",
       "text": [
        "CPU times: user 319 ms, sys: 9.75 ms, total: 329 ms\n",
        "Wall time: 328 ms\n"
       ]
      },
      {
       "metadata": {},
       "output_type": "pyout",
       "prompt_number": 117,
       "text": [
        "['0', '1', '2', '3', '4', '5', '6', '7', '8']"
       ]
      }
     ],
     "prompt_number": 117
    },
    {
     "cell_type": "code",
     "collapsed": false,
     "input": [
      "# Repeat the query, but using in-kernel method\n",
      "%time [r['names'] for r in t.where('ages < 10')]"
     ],
     "language": "python",
     "metadata": {},
     "outputs": [
      {
       "output_type": "stream",
       "stream": "stdout",
       "text": [
        "CPU times: user 203 ms, sys: 26.1 ms, total: 229 ms\n",
        "Wall time: 216 ms\n"
       ]
      },
      {
       "metadata": {},
       "output_type": "pyout",
       "prompt_number": 118,
       "text": [
        "['0', '1', '2', '3', '4', '5', '6', '7', '8']"
       ]
      }
     ],
     "prompt_number": 118
    },
    {
     "cell_type": "code",
     "collapsed": false,
     "input": [
      "# Performing complex conditions (regular query)\n",
      "%time [r['names'] for r in t if r['ages'] < 10 and r['heights'] < 10]"
     ],
     "language": "python",
     "metadata": {},
     "outputs": [
      {
       "output_type": "stream",
       "stream": "stdout",
       "text": [
        "CPU times: user 308 ms, sys: 7.08 ms, total: 316 ms\n",
        "Wall time: 317 ms\n"
       ]
      },
      {
       "metadata": {},
       "output_type": "pyout",
       "prompt_number": 119,
       "text": [
        "['0', '1', '2']"
       ]
      }
     ],
     "prompt_number": 119
    },
    {
     "cell_type": "code",
     "collapsed": false,
     "input": [
      "# Complex, in-kernel queries\n",
      "%time [r['names'] for r in t.where('(ages < 10) & (heights < 10)')]"
     ],
     "language": "python",
     "metadata": {},
     "outputs": [
      {
       "output_type": "stream",
       "stream": "stdout",
       "text": [
        "CPU times: user 209 ms, sys: 27.9 ms, total: 236 ms\n",
        "Wall time: 219 ms\n"
       ]
      },
      {
       "metadata": {},
       "output_type": "pyout",
       "prompt_number": 120,
       "text": [
        "['0', '1', '2']"
       ]
      }
     ],
     "prompt_number": 120
    },
    {
     "cell_type": "code",
     "collapsed": false,
     "input": [
      "# Get a structured array out of disk\n",
      "sa = t[:]\n",
      "sa"
     ],
     "language": "python",
     "metadata": {},
     "outputs": [
      {
       "metadata": {},
       "output_type": "pyout",
       "prompt_number": 121,
       "text": [
        "array([(1, 0.0, '0'), (2, 2.0, '1'), (3, 6.0, '2'), ...,\n",
        "       (999998, 999995000006.0, '999997'),\n",
        "       (999999, 999997000002.0, '999998'),\n",
        "       (1000000, 999999000000.0, '999999')], \n",
        "      dtype=[('ages', '<i4'), ('heights', '<f8'), ('names', 'S200')])"
       ]
      }
     ],
     "prompt_number": 121
    },
    {
     "cell_type": "code",
     "collapsed": false,
     "input": [
      "# Perform the query\n",
      "%time sa[((sa['ages'] < 10) & (sa['heights'] < 10))]['names']"
     ],
     "language": "python",
     "metadata": {},
     "outputs": [
      {
       "output_type": "stream",
       "stream": "stdout",
       "text": [
        "CPU times: user 39 ms, sys: 1.71 ms, total: 40.7 ms\n",
        "Wall time: 40 ms\n"
       ]
      },
      {
       "metadata": {},
       "output_type": "pyout",
       "prompt_number": 122,
       "text": [
        "array(['0', '1', '2'], \n",
        "      dtype='|S200')"
       ]
      }
     ],
     "prompt_number": 122
    },
    {
     "cell_type": "code",
     "collapsed": false,
     "input": [
      "# Create an index for the on-disk table\n",
      "%time t.cols.ages.createCSIndex()"
     ],
     "language": "python",
     "metadata": {},
     "outputs": [
      {
       "output_type": "stream",
       "stream": "stdout",
       "text": [
        "CPU times: user 638 ms, sys: 47.6 ms, total: 685 ms\n",
        "Wall time: 958 ms\n"
       ]
      },
      {
       "metadata": {},
       "output_type": "pyout",
       "prompt_number": 123,
       "text": [
        "1000000"
       ]
      }
     ],
     "prompt_number": 123
    },
    {
     "cell_type": "code",
     "collapsed": false,
     "input": [
      "# Repeat the complex query (indexed)\n",
      "%time [r['names'] for r in t.where('(ages < 10) & (heights < 10)')]"
     ],
     "language": "python",
     "metadata": {},
     "outputs": [
      {
       "output_type": "stream",
       "stream": "stdout",
       "text": [
        "CPU times: user 3.12 ms, sys: 416 \u00b5s, total: 3.53 ms\n",
        "Wall time: 3.5 ms\n"
       ]
      },
      {
       "metadata": {},
       "output_type": "pyout",
       "prompt_number": 124,
       "text": [
        "['0', '1', '2']"
       ]
      }
     ],
     "prompt_number": 124
    },
    {
     "cell_type": "code",
     "collapsed": false,
     "input": [
      "f.close()"
     ],
     "language": "python",
     "metadata": {},
     "outputs": [],
     "prompt_number": 125
    },
    {
     "cell_type": "markdown",
     "metadata": {},
     "source": [
      "## What's all this about hierarchy?"
     ]
    },
    {
     "cell_type": "code",
     "collapsed": false,
     "input": [
      "!cp atest.h5 atest2.h5"
     ],
     "language": "python",
     "metadata": {},
     "outputs": [],
     "prompt_number": 126
    },
    {
     "cell_type": "code",
     "collapsed": false,
     "input": [
      "f\n",
      "f = tb.openFile(\"atest2.h5\", \"a\")"
     ],
     "language": "python",
     "metadata": {},
     "outputs": [],
     "prompt_number": 131
    },
    {
     "cell_type": "code",
     "collapsed": false,
     "input": [
      "f.createGroup(f.root, 'inschool', 'The kids from school')"
     ],
     "language": "python",
     "metadata": {},
     "outputs": [
      {
       "metadata": {},
       "output_type": "pyout",
       "prompt_number": 132,
       "text": [
        "/inschool (Group) 'The kids from school'\n",
        "  children := []"
       ]
      }
     ],
     "prompt_number": 132
    },
    {
     "cell_type": "code",
     "collapsed": false,
     "input": [
      "f"
     ],
     "language": "python",
     "metadata": {},
     "outputs": [
      {
       "metadata": {},
       "output_type": "pyout",
       "prompt_number": 133,
       "text": [
        "File(filename=atest2.h5, title='', mode='a', root_uep='/', filters=Filters(complevel=0, shuffle=False, fletcher32=False, least_significant_digit=None))\n",
        "/ (RootGroup) ''\n",
        "/ghosts (Array(20, 5)) ''\n",
        "  atom := Int64Atom(shape=(), dflt=0)\n",
        "  maindim := 0\n",
        "  flavor := 'numpy'\n",
        "  byteorder := 'little'\n",
        "  chunkshape := None\n",
        "/goblins (Array(10,)) ''\n",
        "  atom := Int64Atom(shape=(), dflt=0)\n",
        "  maindim := 0\n",
        "  flavor := 'numpy'\n",
        "  byteorder := 'little'\n",
        "  chunkshape := None\n",
        "/inschool (Group) 'The kids from school'"
       ]
      }
     ],
     "prompt_number": 133
    },
    {
     "cell_type": "code",
     "collapsed": false,
     "input": [
      "f.moveNode(f.root.ghosts, f.root.inschool)"
     ],
     "language": "python",
     "metadata": {},
     "outputs": [],
     "prompt_number": 134
    },
    {
     "cell_type": "code",
     "collapsed": false,
     "input": [
      "f"
     ],
     "language": "python",
     "metadata": {},
     "outputs": [
      {
       "metadata": {},
       "output_type": "pyout",
       "prompt_number": 135,
       "text": [
        "File(filename=atest2.h5, title='', mode='a', root_uep='/', filters=Filters(complevel=0, shuffle=False, fletcher32=False, least_significant_digit=None))\n",
        "/ (RootGroup) ''\n",
        "/goblins (Array(10,)) ''\n",
        "  atom := Int64Atom(shape=(), dflt=0)\n",
        "  maindim := 0\n",
        "  flavor := 'numpy'\n",
        "  byteorder := 'little'\n",
        "  chunkshape := None\n",
        "/inschool (Group) 'The kids from school'\n",
        "/inschool/ghosts (Array(20, 5)) ''\n",
        "  atom := Int64Atom(shape=(), dflt=0)\n",
        "  maindim := 0\n",
        "  flavor := 'numpy'\n",
        "  byteorder := 'little'\n",
        "  chunkshape := None"
       ]
      }
     ],
     "prompt_number": 135
    },
    {
     "cell_type": "code",
     "collapsed": false,
     "input": [
      "f.createGroup('/g1/g2/g3/g4', 'g5', createparents=True)"
     ],
     "language": "python",
     "metadata": {},
     "outputs": [
      {
       "metadata": {},
       "output_type": "pyout",
       "prompt_number": 136,
       "text": [
        "/g1/g2/g3/g4/g5 (Group) u''\n",
        "  children := []"
       ]
      }
     ],
     "prompt_number": 136
    },
    {
     "cell_type": "code",
     "collapsed": false,
     "input": [
      "f"
     ],
     "language": "python",
     "metadata": {},
     "outputs": [
      {
       "metadata": {},
       "output_type": "pyout",
       "prompt_number": 137,
       "text": [
        "File(filename=atest2.h5, title='', mode='a', root_uep='/', filters=Filters(complevel=0, shuffle=False, fletcher32=False, least_significant_digit=None))\n",
        "/ (RootGroup) ''\n",
        "/goblins (Array(10,)) ''\n",
        "  atom := Int64Atom(shape=(), dflt=0)\n",
        "  maindim := 0\n",
        "  flavor := 'numpy'\n",
        "  byteorder := 'little'\n",
        "  chunkshape := None\n",
        "/g1 (Group) u''\n",
        "/inschool (Group) 'The kids from school'\n",
        "/inschool/ghosts (Array(20, 5)) ''\n",
        "  atom := Int64Atom(shape=(), dflt=0)\n",
        "  maindim := 0\n",
        "  flavor := 'numpy'\n",
        "  byteorder := 'little'\n",
        "  chunkshape := None\n",
        "/g1/g2 (Group) u''\n",
        "/g1/g2/g3 (Group) u''\n",
        "/g1/g2/g3/g4 (Group) u''\n",
        "/g1/g2/g3/g4/g5 (Group) u''"
       ]
      }
     ],
     "prompt_number": 137
    },
    {
     "cell_type": "code",
     "collapsed": false,
     "input": [
      "f.createArray(f.root.g1.g2.g3.g4.g5, 'goblins', np.arange(10))"
     ],
     "language": "python",
     "metadata": {},
     "outputs": [
      {
       "metadata": {},
       "output_type": "pyout",
       "prompt_number": 138,
       "text": [
        "/g1/g2/g3/g4/g5/goblins (Array(10,)) ''\n",
        "  atom := Int64Atom(shape=(), dflt=0)\n",
        "  maindim := 0\n",
        "  flavor := 'numpy'\n",
        "  byteorder := 'little'\n",
        "  chunkshape := None"
       ]
      }
     ],
     "prompt_number": 138
    },
    {
     "cell_type": "code",
     "collapsed": false,
     "input": [
      "f"
     ],
     "language": "python",
     "metadata": {},
     "outputs": [
      {
       "metadata": {},
       "output_type": "pyout",
       "prompt_number": 139,
       "text": [
        "File(filename=atest2.h5, title='', mode='a', root_uep='/', filters=Filters(complevel=0, shuffle=False, fletcher32=False, least_significant_digit=None))\n",
        "/ (RootGroup) ''\n",
        "/goblins (Array(10,)) ''\n",
        "  atom := Int64Atom(shape=(), dflt=0)\n",
        "  maindim := 0\n",
        "  flavor := 'numpy'\n",
        "  byteorder := 'little'\n",
        "  chunkshape := None\n",
        "/g1 (Group) u''\n",
        "/inschool (Group) 'The kids from school'\n",
        "/inschool/ghosts (Array(20, 5)) ''\n",
        "  atom := Int64Atom(shape=(), dflt=0)\n",
        "  maindim := 0\n",
        "  flavor := 'numpy'\n",
        "  byteorder := 'little'\n",
        "  chunkshape := None\n",
        "/g1/g2 (Group) u''\n",
        "/g1/g2/g3 (Group) u''\n",
        "/g1/g2/g3/g4 (Group) u''\n",
        "/g1/g2/g3/g4/g5 (Group) u''\n",
        "/g1/g2/g3/g4/g5/goblins (Array(10,)) ''\n",
        "  atom := Int64Atom(shape=(), dflt=0)\n",
        "  maindim := 0\n",
        "  flavor := 'numpy'\n",
        "  byteorder := 'little'\n",
        "  chunkshape := None"
       ]
      }
     ],
     "prompt_number": 139
    },
    {
     "cell_type": "code",
     "collapsed": false,
     "input": [
      "f.root.g1.g2.g3.g4.g5.goblins[:]"
     ],
     "language": "python",
     "metadata": {},
     "outputs": [
      {
       "metadata": {},
       "output_type": "pyout",
       "prompt_number": 140,
       "text": [
        "array([0, 1, 2, 3, 4, 5, 6, 7, 8, 9])"
       ]
      }
     ],
     "prompt_number": 140
    },
    {
     "cell_type": "code",
     "collapsed": false,
     "input": [
      "f.removeNode(f.root.g1.g2.g3.g4.g5.goblins)"
     ],
     "language": "python",
     "metadata": {},
     "outputs": [],
     "prompt_number": 141
    },
    {
     "cell_type": "code",
     "collapsed": false,
     "input": [
      "f"
     ],
     "language": "python",
     "metadata": {},
     "outputs": [
      {
       "metadata": {},
       "output_type": "pyout",
       "prompt_number": 142,
       "text": [
        "File(filename=atest2.h5, title='', mode='a', root_uep='/', filters=Filters(complevel=0, shuffle=False, fletcher32=False, least_significant_digit=None))\n",
        "/ (RootGroup) ''\n",
        "/goblins (Array(10,)) ''\n",
        "  atom := Int64Atom(shape=(), dflt=0)\n",
        "  maindim := 0\n",
        "  flavor := 'numpy'\n",
        "  byteorder := 'little'\n",
        "  chunkshape := None\n",
        "/g1 (Group) u''\n",
        "/inschool (Group) 'The kids from school'\n",
        "/inschool/ghosts (Array(20, 5)) ''\n",
        "  atom := Int64Atom(shape=(), dflt=0)\n",
        "  maindim := 0\n",
        "  flavor := 'numpy'\n",
        "  byteorder := 'little'\n",
        "  chunkshape := None\n",
        "/g1/g2 (Group) u''\n",
        "/g1/g2/g3 (Group) u''\n",
        "/g1/g2/g3/g4 (Group) u''\n",
        "/g1/g2/g3/g4/g5 (Group) u''"
       ]
      }
     ],
     "prompt_number": 142
    },
    {
     "cell_type": "code",
     "collapsed": false,
     "input": [
      "for n in f: print n"
     ],
     "language": "python",
     "metadata": {},
     "outputs": [
      {
       "output_type": "stream",
       "stream": "stdout",
       "text": [
        "/ (RootGroup) ''\n",
        "/g1 (Group) u''\n",
        "/goblins (Array(10,)) ''\n",
        "/inschool (Group) 'The kids from school'\n",
        "/g1/g2 (Group) u''\n",
        "/inschool/ghosts (Array(20, 5)) ''\n",
        "/g1/g2/g3 (Group) u''\n",
        "/g1/g2/g3/g4 (Group) u''\n",
        "/g1/g2/g3/g4/g5 (Group) u''\n"
       ]
      }
     ],
     "prompt_number": 143
    },
    {
     "cell_type": "code",
     "collapsed": false,
     "input": [
      "for n in f.walkNodes(): print n"
     ],
     "language": "python",
     "metadata": {},
     "outputs": [
      {
       "output_type": "stream",
       "stream": "stdout",
       "text": [
        "/ (RootGroup) ''\n",
        "/g1 (Group) u''\n",
        "/goblins (Array(10,)) ''\n",
        "/inschool (Group) 'The kids from school'\n",
        "/g1/g2 (Group) u''\n",
        "/inschool/ghosts (Array(20, 5)) ''\n",
        "/g1/g2/g3 (Group) u''\n",
        "/g1/g2/g3/g4 (Group) u''\n",
        "/g1/g2/g3/g4/g5 (Group) u''\n"
       ]
      }
     ],
     "prompt_number": 144
    },
    {
     "cell_type": "code",
     "collapsed": false,
     "input": [
      "for n in f.walkNodes(f.root.inschool): print n"
     ],
     "language": "python",
     "metadata": {},
     "outputs": [
      {
       "output_type": "stream",
       "stream": "stdout",
       "text": [
        "/inschool (Group) 'The kids from school'\n",
        "/inschool/ghosts (Array(20, 5)) ''\n"
       ]
      }
     ],
     "prompt_number": 145
    },
    {
     "cell_type": "code",
     "collapsed": false,
     "input": [
      "for n in f.walkNodes(f.root.inschool, classname=\"Array\"): print n[:2]"
     ],
     "language": "python",
     "metadata": {},
     "outputs": [
      {
       "output_type": "stream",
       "stream": "stdout",
       "text": [
        "[[0 1 2 3 4]\n",
        " [5 6 7 8 9]]\n"
       ]
      }
     ],
     "prompt_number": 146
    },
    {
     "cell_type": "code",
     "collapsed": false,
     "input": [
      "f.close()"
     ],
     "language": "python",
     "metadata": {},
     "outputs": [],
     "prompt_number": 147
    },
    {
     "cell_type": "markdown",
     "metadata": {},
     "source": [
      "## Let's talk briefly about metadata"
     ]
    },
    {
     "cell_type": "code",
     "collapsed": false,
     "input": [
      "!cp atest2.h5 atest3.h5"
     ],
     "language": "python",
     "metadata": {},
     "outputs": [],
     "prompt_number": 148
    },
    {
     "cell_type": "code",
     "collapsed": false,
     "input": [
      "import tables as tb\n",
      "f = tb.openFile(\"atest3.h5\", \"a\")"
     ],
     "language": "python",
     "metadata": {},
     "outputs": [],
     "prompt_number": 149
    },
    {
     "cell_type": "code",
     "collapsed": false,
     "input": [
      "f"
     ],
     "language": "python",
     "metadata": {},
     "outputs": [
      {
       "metadata": {},
       "output_type": "pyout",
       "prompt_number": 150,
       "text": [
        "File(filename=atest3.h5, title='', mode='a', root_uep='/', filters=Filters(complevel=0, shuffle=False, fletcher32=False, least_significant_digit=None))\n",
        "/ (RootGroup) ''\n",
        "/goblins (Array(10,)) ''\n",
        "  atom := Int64Atom(shape=(), dflt=0)\n",
        "  maindim := 0\n",
        "  flavor := 'numpy'\n",
        "  byteorder := 'little'\n",
        "  chunkshape := None\n",
        "/g1 (Group) ''\n",
        "/inschool (Group) 'The kids from school'\n",
        "/inschool/ghosts (Array(20, 5)) ''\n",
        "  atom := Int64Atom(shape=(), dflt=0)\n",
        "  maindim := 0\n",
        "  flavor := 'numpy'\n",
        "  byteorder := 'little'\n",
        "  chunkshape := None\n",
        "/g1/g2 (Group) ''\n",
        "/g1/g2/g3 (Group) ''\n",
        "/g1/g2/g3/g4 (Group) ''\n",
        "/g1/g2/g3/g4/g5 (Group) ''"
       ]
      }
     ],
     "prompt_number": 150
    },
    {
     "cell_type": "code",
     "collapsed": false,
     "input": [
      "f.root.goblins.attrs"
     ],
     "language": "python",
     "metadata": {},
     "outputs": [
      {
       "metadata": {},
       "output_type": "pyout",
       "prompt_number": 151,
       "text": [
        "/goblins._v_attrs (AttributeSet), 4 attributes:\n",
        "   [CLASS := 'ARRAY',\n",
        "    FLAVOR := 'numpy',\n",
        "    TITLE := '',\n",
        "    VERSION := '2.4']"
       ]
      }
     ],
     "prompt_number": 151
    },
    {
     "cell_type": "code",
     "collapsed": false,
     "input": [
      "f.root.goblins.attrs.myattr = \"All the goblins on the block!\""
     ],
     "language": "python",
     "metadata": {},
     "outputs": [],
     "prompt_number": 152
    },
    {
     "cell_type": "code",
     "collapsed": false,
     "input": [
      "f.root.goblins.attrs"
     ],
     "language": "python",
     "metadata": {},
     "outputs": [
      {
       "metadata": {},
       "output_type": "pyout",
       "prompt_number": 153,
       "text": [
        "/goblins._v_attrs (AttributeSet), 5 attributes:\n",
        "   [CLASS := 'ARRAY',\n",
        "    FLAVOR := 'numpy',\n",
        "    TITLE := '',\n",
        "    VERSION := '2.4',\n",
        "    myattr := 'All the goblins on the block!']"
       ]
      }
     ],
     "prompt_number": 153
    },
    {
     "cell_type": "code",
     "collapsed": false,
     "input": [
      "# h5dump and h5ls inspect the contents of the file\n",
      "!h5ls -av atest3.h5"
     ],
     "language": "python",
     "metadata": {},
     "outputs": [
      {
       "output_type": "stream",
       "stream": "stdout",
       "text": [
        "Opened \"atest3.h5\" with sec2 driver.\r\n",
        "g1                       Group\r\n",
        "    Attribute: CLASS scalar\r\n",
        "        Type:      5-byte null-terminated ASCII string\r\n",
        "        Data:  \"GROUP\"\r\n",
        "    Attribute: TITLE scalar\r\n",
        "        Type:      1-byte null-terminated UTF-8 string\r\n",
        "        Data:  \"\"\r\n",
        "    Attribute: VERSION scalar\r\n",
        "        Type:      3-byte null-terminated ASCII string\r\n",
        "        Data:  \"1.0\"\r\n",
        "    Location:  1:4240\r\n",
        "    Links:     1\r\n",
        "goblins                  Dataset {10/10}\r\n",
        "    Attribute: CLASS scalar\r\n",
        "        Type:      6-byte null-terminated ASCII string\r\n",
        "        Data:  \"ARRAY\"\r\n",
        "    Attribute: FLAVOR scalar\r\n",
        "        Type:      5-byte null-terminated ASCII string\r\n",
        "        Data:  \"numpy\"\r\n",
        "    Attribute: TITLE scalar\r\n",
        "        Type:      1-byte null-terminated ASCII string\r\n",
        "        Data:  \"\"\r\n",
        "    Attribute: VERSION scalar\r\n",
        "        Type:      4-byte null-terminated ASCII string\r\n",
        "        Data:  \"2.4\"\r\n",
        "    Location:  1:1728\r\n",
        "    Links:     1\r\n",
        "    Storage:   80 logical bytes, 80 allocated bytes, 100.00% utilization\r\n",
        "    Type:      native long\r\n",
        "    Address:   2944\r\n",
        "inschool                 Group\r\n",
        "    Attribute: CLASS scalar\r\n",
        "        Type:      5-byte null-terminated ASCII string\r\n",
        "        Data:  \"GROUP\"\r\n",
        "    Attribute: TITLE scalar\r\n",
        "        Type:      20-byte null-terminated ASCII string\r\n",
        "        Data:  \"The kids from school\"\r\n",
        "    Attribute: VERSION scalar\r\n",
        "        Type:      3-byte null-terminated ASCII string\r\n",
        "        Data:  \"1.0\"\r\n",
        "    Location:  1:3024\r\n",
        "    Links:     1\r\n"
       ]
      }
     ],
     "prompt_number": 154
    },
    {
     "cell_type": "code",
     "collapsed": false,
     "input": [
      "# flush \n",
      "f.flush()"
     ],
     "language": "python",
     "metadata": {},
     "outputs": [],
     "prompt_number": 155
    },
    {
     "cell_type": "code",
     "collapsed": false,
     "input": [
      "!h5ls -av atest3.h5"
     ],
     "language": "python",
     "metadata": {},
     "outputs": [
      {
       "output_type": "stream",
       "stream": "stdout",
       "text": [
        "Opened \"atest3.h5\" with sec2 driver.\r\n",
        "g1                       Group\r\n",
        "    Attribute: CLASS scalar\r\n",
        "        Type:      5-byte null-terminated ASCII string\r\n",
        "        Data:  \"GROUP\"\r\n",
        "    Attribute: TITLE scalar\r\n",
        "        Type:      1-byte null-terminated UTF-8 string\r\n",
        "        Data:  \"\"\r\n",
        "    Attribute: VERSION scalar\r\n",
        "        Type:      3-byte null-terminated ASCII string\r\n",
        "        Data:  \"1.0\"\r\n",
        "    Location:  1:4240\r\n",
        "    Links:     1\r\n",
        "goblins                  Dataset {10/10}\r\n",
        "    Attribute: CLASS scalar\r\n",
        "        Type:      6-byte null-terminated ASCII string\r\n",
        "        Data:  \"ARRAY\"\r\n",
        "    Attribute: FLAVOR scalar\r\n",
        "        Type:      5-byte null-terminated ASCII string\r\n",
        "        Data:  \"numpy\"\r\n",
        "    Attribute: TITLE scalar\r\n",
        "        Type:      1-byte null-terminated ASCII string\r\n",
        "        Data:  \"\"\r\n",
        "    Attribute: VERSION scalar\r\n",
        "        Type:      4-byte null-terminated ASCII string\r\n",
        "        Data:  \"2.4\"\r\n",
        "    Attribute: myattr scalar\r\n",
        "        Type:      29-byte null-terminated ASCII string\r\n",
        "        Data:  \"All the goblins on the block!\"\r\n",
        "    Location:  1:1728\r\n",
        "    Links:     1\r\n",
        "    Storage:   80 logical bytes, 80 allocated bytes, 100.00% utilization\r\n",
        "    Type:      native long\r\n",
        "    Address:   2944\r\n",
        "inschool                 Group\r\n",
        "    Attribute: CLASS scalar\r\n",
        "        Type:      5-byte null-terminated ASCII string\r\n",
        "        Data:  \"GROUP\"\r\n",
        "    Attribute: TITLE scalar\r\n",
        "        Type:      20-byte null-terminated ASCII string\r\n",
        "        Data:  \"The kids from school\"\r\n",
        "    Attribute: VERSION scalar\r\n",
        "        Type:      3-byte null-terminated ASCII string\r\n",
        "        Data:  \"1.0\"\r\n",
        "    Location:  1:3024\r\n",
        "    Links:     1\r\n"
       ]
      }
     ],
     "prompt_number": 156
    },
    {
     "cell_type": "code",
     "collapsed": false,
     "input": [
      "f.root.goblins.attrs.grades = np.arange(10)\n",
      "f.flush()"
     ],
     "language": "python",
     "metadata": {},
     "outputs": [],
     "prompt_number": 157
    },
    {
     "cell_type": "code",
     "collapsed": false,
     "input": [
      "!h5ls -av atest3.h5"
     ],
     "language": "python",
     "metadata": {},
     "outputs": [
      {
       "output_type": "stream",
       "stream": "stdout",
       "text": [
        "Opened \"atest3.h5\" with sec2 driver.\r\n",
        "g1                       Group\r\n",
        "    Attribute: CLASS scalar\r\n",
        "        Type:      5-byte null-terminated ASCII string\r\n",
        "        Data:  \"GROUP\"\r\n",
        "    Attribute: TITLE scalar\r\n",
        "        Type:      1-byte null-terminated UTF-8 string\r\n",
        "        Data:  \"\"\r\n",
        "    Attribute: VERSION scalar\r\n",
        "        Type:      3-byte null-terminated ASCII string\r\n",
        "        Data:  \"1.0\"\r\n",
        "    Location:  1:4240\r\n",
        "    Links:     1\r\n",
        "goblins                  Dataset {10/10}\r\n",
        "    Attribute: CLASS scalar\r\n",
        "        Type:      6-byte null-terminated ASCII string\r\n",
        "        Data:  \"ARRAY\"\r\n",
        "    Attribute: FLAVOR scalar\r\n",
        "        Type:      5-byte null-terminated ASCII string\r\n",
        "        Data:  \"numpy\"\r\n",
        "    Attribute: TITLE scalar\r\n",
        "        Type:      1-byte null-terminated ASCII string\r\n",
        "        Data:  \"\"\r\n",
        "    Attribute: VERSION scalar\r\n",
        "        Type:      4-byte null-terminated ASCII string\r\n",
        "        Data:  \"2.4\"\r\n",
        "    Attribute: grades {10}\r\n",
        "        Type:      native long\r\n",
        "        Data:\r\n",
        "            (0) 0, 1, 2, 3, 4, 5, 6, 7, 8, 9\r\n",
        "    Attribute: myattr scalar\r\n",
        "        Type:      29-byte null-terminated ASCII string\r\n",
        "        Data:  \"All the goblins on the block!\"\r\n",
        "    Location:  1:1728\r\n",
        "    Links:     1\r\n",
        "    Storage:   80 logical bytes, 80 allocated bytes, 100.00% utilization\r\n",
        "    Type:      native long\r\n",
        "    Address:   2944\r\n",
        "inschool                 Group\r\n",
        "    Attribute: CLASS scalar\r\n",
        "        Type:      5-byte null-terminated ASCII string\r\n",
        "        Data:  \"GROUP\"\r\n",
        "    Attribute: TITLE scalar\r\n",
        "        Type:      20-byte null-terminated ASCII string\r\n",
        "        Data:  \"The kids from school\"\r\n",
        "    Attribute: VERSION scalar\r\n",
        "        Type:      3-byte null-terminated ASCII string\r\n",
        "        Data:  \"1.0\"\r\n",
        "    Location:  1:3024\r\n",
        "    Links:     1\r\n"
       ]
      }
     ],
     "prompt_number": 158
    },
    {
     "cell_type": "code",
     "collapsed": false,
     "input": [
      "attrs = f.root.goblins.attrs"
     ],
     "language": "python",
     "metadata": {},
     "outputs": [],
     "prompt_number": 159
    },
    {
     "cell_type": "code",
     "collapsed": false,
     "input": [
      "attrs"
     ],
     "language": "python",
     "metadata": {},
     "outputs": [
      {
       "metadata": {},
       "output_type": "pyout",
       "prompt_number": 160,
       "text": [
        "/goblins._v_attrs (AttributeSet), 6 attributes:\n",
        "   [CLASS := 'ARRAY',\n",
        "    FLAVOR := 'numpy',\n",
        "    TITLE := '',\n",
        "    VERSION := '2.4',\n",
        "    grades := array([0, 1, 2, 3, 4, 5, 6, 7, 8, 9]),\n",
        "    myattr := 'All the goblins on the block!']"
       ]
      }
     ],
     "prompt_number": 160
    },
    {
     "cell_type": "code",
     "collapsed": false,
     "input": [
      "del attrs.grades\n",
      "attrs"
     ],
     "language": "python",
     "metadata": {},
     "outputs": [
      {
       "metadata": {},
       "output_type": "pyout",
       "prompt_number": 161,
       "text": [
        "/goblins._v_attrs (AttributeSet), 5 attributes:\n",
        "   [CLASS := 'ARRAY',\n",
        "    FLAVOR := 'numpy',\n",
        "    TITLE := '',\n",
        "    VERSION := '2.4',\n",
        "    myattr := 'All the goblins on the block!']"
       ]
      }
     ],
     "prompt_number": 161
    },
    {
     "cell_type": "code",
     "collapsed": false,
     "input": [
      "attrs.candy = 12.3\n",
      "attrs"
     ],
     "language": "python",
     "metadata": {},
     "outputs": [
      {
       "metadata": {},
       "output_type": "pyout",
       "prompt_number": 162,
       "text": [
        "/goblins._v_attrs (AttributeSet), 6 attributes:\n",
        "   [CLASS := 'ARRAY',\n",
        "    FLAVOR := 'numpy',\n",
        "    TITLE := '',\n",
        "    VERSION := '2.4',\n",
        "    candy := 12.300000000000001,\n",
        "    myattr := 'All the goblins on the block!']"
       ]
      }
     ],
     "prompt_number": 162
    },
    {
     "cell_type": "code",
     "collapsed": false,
     "input": [
      "for n in f.walkNodes(f.root.inschool, classname=\"Array\"): print `n.attrs`"
     ],
     "language": "python",
     "metadata": {},
     "outputs": [
      {
       "output_type": "stream",
       "stream": "stdout",
       "text": [
        "/inschool/ghosts._v_attrs (AttributeSet), 4 attributes:\n",
        "   [CLASS := 'ARRAY',\n",
        "    FLAVOR := 'numpy',\n",
        "    TITLE := '',\n",
        "    VERSION := '2.4']\n"
       ]
      }
     ],
     "prompt_number": 163
    },
    {
     "cell_type": "code",
     "collapsed": false,
     "input": [
      "f.close()"
     ],
     "language": "python",
     "metadata": {},
     "outputs": [],
     "prompt_number": 164
    }
   ],
   "metadata": {}
  }
 ]
}