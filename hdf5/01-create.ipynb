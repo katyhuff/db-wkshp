{
 "metadata": {
  "name": "",
  "signature": "sha256:842a217b2dbceb9ff1c6b864004fbe1f32b27dfe4a0e2856959996826d4eb365"
 },
 "nbformat": 3,
 "nbformat_minor": 0,
 "worksheets": [
  {
   "cells": [
    {
     "cell_type": "code",
     "collapsed": true,
     "input": [
      "import numpy as np\n",
      "import tables as tb\n",
      "\n",
      "# Create a new file\n",
      "f = tb.openFile(\"atest.h5\", \"w\")\n",
      "\n",
      "# Create a NumPy array, number of ghosts per sq. ft.\n",
      "a = np.arange(100).reshape(20,5)\n",
      "\n",
      "# Save the array\n",
      "f.createArray(f.root, \"ghosts\", a)"
     ],
     "language": "python",
     "metadata": {},
     "outputs": []
    },
    {
     "cell_type": "code",
     "collapsed": true,
     "input": [
      "# See data\n",
      "f.root.ghosts[:]"
     ],
     "language": "python",
     "metadata": {},
     "outputs": []
    },
    {
     "cell_type": "code",
     "collapsed": false,
     "input": [
      "# Select some data areas\n",
      "ta = f.root.ghosts\n",
      "ta[1:10:3,2:5]"
     ],
     "language": "python",
     "metadata": {},
     "outputs": []
    },
    {
     "cell_type": "code",
     "collapsed": false,
     "input": [
      "np.allclose(ta[1:10:3,2:5], a[1:10:3,2:5])"
     ],
     "language": "python",
     "metadata": {},
     "outputs": []
    },
    {
     "cell_type": "code",
     "collapsed": false,
     "input": [
      "# Create another array, number of goblins per square foot\n",
      "ta2 = f.createArray(f.root, \"goblins\", np.arange(10))"
     ],
     "language": "python",
     "metadata": {},
     "outputs": []
    },
    {
     "cell_type": "code",
     "collapsed": false,
     "input": [
      "np.allclose(ta2, np.arange(10))"
     ],
     "language": "python",
     "metadata": {},
     "outputs": []
    },
    {
     "cell_type": "code",
     "collapsed": false,
     "input": [
      "ls -l atest.h5"
     ],
     "language": "python",
     "metadata": {},
     "outputs": []
    },
    {
     "cell_type": "code",
     "collapsed": false,
     "input": [
      "# Flush data to the file (very important to keep all your data safe!)\n",
      "f.flush()"
     ],
     "language": "python",
     "metadata": {},
     "outputs": []
    },
    {
     "cell_type": "code",
     "collapsed": false,
     "input": [
      "ls -l atest.h5"
     ],
     "language": "python",
     "metadata": {},
     "outputs": []
    },
    {
     "cell_type": "code",
     "collapsed": false,
     "input": [
      "f.close()  # close access to file"
     ],
     "language": "python",
     "metadata": {},
     "outputs": []
    },
    {
     "cell_type": "code",
     "collapsed": false,
     "input": [
      "ta[:]"
     ],
     "language": "python",
     "metadata": {},
     "outputs": []
    },
    {
     "cell_type": "code",
     "collapsed": false,
     "input": [
      "ta"
     ],
     "language": "python",
     "metadata": {},
     "outputs": []
    }
   ],
   "metadata": {}
  }
 ]
}
