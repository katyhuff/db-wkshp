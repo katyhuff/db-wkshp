{
 "metadata": {
  "name": "",
  "signature": "sha256:065867316de90e2afabd6baa3d8a274d1b976c9e76375c0265ce8778aa92caf7"
 },
 "nbformat": 3,
 "nbformat_minor": 0,
 "worksheets": [
  {
   "cells": [
    {
     "cell_type": "code",
     "collapsed": false,
     "input": [
      "import numpy as np\n",
      "import tables as tb"
     ],
     "language": "python",
     "metadata": {},
     "outputs": []
    },
    {
     "cell_type": "code",
     "collapsed": false,
     "input": [
      "# The description for the tabular data\n",
      "class TabularData(tb.IsDescription):\n",
      "    col1 = tb.StringCol(200)\n",
      "    col2 = tb.IntCol()\n",
      "    col3 = tb.FloatCol()"
     ],
     "language": "python",
     "metadata": {},
     "outputs": []
    },
    {
     "cell_type": "code",
     "collapsed": false,
     "input": [
      "# Open a file and create the Table container\n",
      "f = tb.openFile('atable.h5', 'w')\n",
      "t = f.createTable(f.root, 'table', TabularData, 'table title', filters=tb.Filters(5, 'blosc'))"
     ],
     "language": "python",
     "metadata": {},
     "outputs": []
    },
    {
     "cell_type": "code",
     "collapsed": false,
     "input": [
      "t"
     ],
     "language": "python",
     "metadata": {},
     "outputs": []
    },
    {
     "cell_type": "code",
     "collapsed": false,
     "input": [
      "#  Fill the table with some 1 million rows\n",
      "from time import time\n",
      "t0 = time()\n",
      "r = t.row\n",
      "for i in xrange(1000*1000):\n",
      "    r['col1'] = str(i)\n",
      "    r['col2'] = i + 1\n",
      "    r['col3'] = i * (i + 1)\n",
      "    r.append()\n",
      "t.flush()\n",
      "print \"Insert time: %.3fs\" % (time()-t0,) "
     ],
     "language": "python",
     "metadata": {},
     "outputs": []
    },
    {
     "cell_type": "code",
     "collapsed": false,
     "input": [
      "t"
     ],
     "language": "python",
     "metadata": {},
     "outputs": []
    },
    {
     "cell_type": "code",
     "collapsed": false,
     "input": [
      "# Size on disk\n",
      "!ls -lh atable.h5"
     ],
     "language": "python",
     "metadata": {},
     "outputs": []
    },
    {
     "cell_type": "code",
     "collapsed": false,
     "input": [
      "# Real size\n",
      "np.prod(t.shape) * t.dtype.itemsize / 2**20."
     ],
     "language": "python",
     "metadata": {},
     "outputs": []
    },
    {
     "cell_type": "code",
     "collapsed": false,
     "input": [
      "# Do a query (regular)\n",
      "%time [r['col1'] for r in t if r['col2'] < 10]"
     ],
     "language": "python",
     "metadata": {},
     "outputs": []
    },
    {
     "cell_type": "code",
     "collapsed": false,
     "input": [
      "# Repeat the query, but using in-kernel method\n",
      "%time [r['col1'] for r in t.where('col2 < 10')]"
     ],
     "language": "python",
     "metadata": {},
     "outputs": []
    },
    {
     "cell_type": "code",
     "collapsed": false,
     "input": [
      "# Performing complex conditions (regular query)\n",
      "%time [r['col1'] for r in t if r['col2'] < 10 and r['col3'] < 10]"
     ],
     "language": "python",
     "metadata": {},
     "outputs": []
    },
    {
     "cell_type": "code",
     "collapsed": false,
     "input": [
      "# Complex, in-kernel queries\n",
      "%time [r['col1'] for r in t.where('(col2 < 10) & (col3 < 10)')]"
     ],
     "language": "python",
     "metadata": {},
     "outputs": []
    },
    {
     "cell_type": "code",
     "collapsed": false,
     "input": [
      "# Get a structured array out of disk\n",
      "sa = t[:]\n",
      "sa"
     ],
     "language": "python",
     "metadata": {},
     "outputs": []
    },
    {
     "cell_type": "code",
     "collapsed": false,
     "input": [
      "# Perform the query\n",
      "%time sa[((sa['col2'] < 10) & (sa['col3'] < 10))]['col1']"
     ],
     "language": "python",
     "metadata": {},
     "outputs": []
    },
    {
     "cell_type": "code",
     "collapsed": false,
     "input": [
      "# Create an index for the on-disk table\n",
      "%time t.cols.col2.createCSIndex()"
     ],
     "language": "python",
     "metadata": {},
     "outputs": []
    },
    {
     "cell_type": "code",
     "collapsed": false,
     "input": [
      "# Repeat the complex query (indexed)\n",
      "%time [r['col1'] for r in t.where('(col2 < 10) & (col3 < 10)')]"
     ],
     "language": "python",
     "metadata": {},
     "outputs": []
    },
    {
     "cell_type": "code",
     "collapsed": false,
     "input": [
      "f.close()"
     ],
     "language": "python",
     "metadata": {},
     "outputs": []
    },
    {
     "cell_type": "code",
     "collapsed": false,
     "input": [],
     "language": "python",
     "metadata": {},
     "outputs": []
    }
   ],
   "metadata": {}
  }
 ]
}