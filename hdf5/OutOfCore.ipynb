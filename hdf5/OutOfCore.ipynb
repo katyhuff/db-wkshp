{
 "metadata": {
  "name": "OutOfCore"
 },
 "nbformat": 3,
 "nbformat_minor": 0,
 "worksheets": [
  {
   "cells": [
    {
     "cell_type": "code",
     "collapsed": false,
     "input": [
      "import numpy as np\n",
      "import tables as tb\n",
      "from time import time"
     ],
     "language": "python",
     "metadata": {},
     "outputs": []
    },
    {
     "cell_type": "code",
     "collapsed": false,
     "input": [
      "# Open file for performing out of core computation\n",
      "f = tb.openFile('poly.h5', 'w')"
     ],
     "language": "python",
     "metadata": {},
     "outputs": []
    },
    {
     "cell_type": "code",
     "collapsed": false,
     "input": [
      "# Fill values for the x values\n",
      "t0 = time()\n",
      "x = f.createEArray(f.root, 'x', tb.Float64Atom(), (0,), filters=tb.Filters(5, 'blosc'))\n",
      "for s in range(10):\n",
      "    x.append(np.linspace(s, s+1, 1e6))\n",
      "x.flush()\n",
      "print \"Time to fill x values: %.3f\" % (time()-t0,)"
     ],
     "language": "python",
     "metadata": {},
     "outputs": []
    },
    {
     "cell_type": "code",
     "collapsed": false,
     "input": [
      "!ls -lh poly.h5"
     ],
     "language": "python",
     "metadata": {},
     "outputs": []
    },
    {
     "cell_type": "code",
     "collapsed": false,
     "input": [
      "# Create the expression to compute\n",
      "expr = tb.Expr(\"0.25*x**3 + 0.75*x**2 + 1.5*x - 2\")"
     ],
     "language": "python",
     "metadata": {},
     "outputs": []
    },
    {
     "cell_type": "code",
     "collapsed": false,
     "input": [
      "# Create the output vector y\n",
      "if hasattr(f.root, 'y'):\n",
      "    f.removeNode(f.root.y)\n",
      "y = f.createCArray(f.root, 'y', tb.Float64Atom(), (len(x),), filters=tb.Filters(5, 'blosc'))"
     ],
     "language": "python",
     "metadata": {},
     "outputs": []
    },
    {
     "cell_type": "code",
     "collapsed": false,
     "input": [
      "# Specify that the ouput of the expression has to go to y on disk\n",
      "expr.setOutput(y)"
     ],
     "language": "python",
     "metadata": {},
     "outputs": []
    },
    {
     "cell_type": "code",
     "collapsed": false,
     "input": [
      "%time expr.eval()"
     ],
     "language": "python",
     "metadata": {},
     "outputs": []
    },
    {
     "cell_type": "code",
     "collapsed": false,
     "input": [
      "f.flush()\n",
      "!ls -lh poly.h5"
     ],
     "language": "python",
     "metadata": {},
     "outputs": []
    },
    {
     "cell_type": "code",
     "collapsed": false,
     "input": [
      "xn = x[:]\n",
      "yn = f.root.y[:]\n",
      "plot(xn, yn)"
     ],
     "language": "python",
     "metadata": {},
     "outputs": []
    },
    {
     "cell_type": "code",
     "collapsed": false,
     "input": [
      "!h5ls -v poly.h5"
     ],
     "language": "python",
     "metadata": {},
     "outputs": []
    },
    {
     "cell_type": "code",
     "collapsed": false,
     "input": [
      "%time yn2 = 0.25*xn**3 + 0.75*xn**2 + 1.5*xn - 2"
     ],
     "language": "python",
     "metadata": {},
     "outputs": []
    },
    {
     "cell_type": "code",
     "collapsed": false,
     "input": [
      "np.allclose(yn, yn2)"
     ],
     "language": "python",
     "metadata": {},
     "outputs": []
    },
    {
     "cell_type": "code",
     "collapsed": false,
     "input": [
      "f.close()"
     ],
     "language": "python",
     "metadata": {},
     "outputs": []
    },
    {
     "cell_type": "code",
     "collapsed": false,
     "input": [],
     "language": "python",
     "metadata": {},
     "outputs": []
    }
   ],
   "metadata": {}
  }
 ]
}